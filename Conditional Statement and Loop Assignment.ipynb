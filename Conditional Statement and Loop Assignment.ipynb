{
 "cells": [
  {
   "cell_type": "code",
   "execution_count": null,
   "id": "345dd3ca-731b-4110-861f-ce918dd2da83",
   "metadata": {},
   "outputs": [],
   "source": [
    "#Question 1"
   ]
  },
  {
   "cell_type": "code",
   "execution_count": 34,
   "id": "9d617aa7-f9b6-4457-aa0e-3be5e91977b2",
   "metadata": {},
   "outputs": [
    {
     "name": "stdin",
     "output_type": "stream",
     "text": [
      "Enter Your Marks 90\n"
     ]
    },
    {
     "name": "stdout",
     "output_type": "stream",
     "text": [
      "Grade B\n"
     ]
    }
   ],
   "source": [
    "marks = int(input(\"Enter Your Marks\"))\n",
    "if marks > 90:\n",
    "    print(\"Grade A\")\n",
    "elif marks > 80 and marks <=90:\n",
    "    print (\"Grade B\")\n",
    "elif marks >= 0 and marks <=80:\n",
    "    print(\"Grade C\")\n",
    "else :\n",
    "    print (\"Grade D\")\n"
   ]
  },
  {
   "cell_type": "code",
   "execution_count": 15,
   "id": "94e12530-2892-4eff-83d6-b765ce067422",
   "metadata": {},
   "outputs": [],
   "source": [
    "#Question 2 "
   ]
  },
  {
   "cell_type": "code",
   "execution_count": 31,
   "id": "b3b0e7e9-209c-468c-8356-7d68b3757faf",
   "metadata": {},
   "outputs": [
    {
     "name": "stdin",
     "output_type": "stream",
     "text": [
      "Enter the price of a bike 100001\n"
     ]
    },
    {
     "name": "stdout",
     "output_type": "stream",
     "text": [
      "The tax will be 15%\n"
     ]
    }
   ],
   "source": [
    "price = int(input(\"Enter the price of a bike\"))\n",
    "if price > 100000:\n",
    "    print(\"The tax will be 15%\")\n",
    "elif price > 50000 and price <= 100000:\n",
    "    print(\"The tax will be 10%\")\n",
    "else :\n",
    "    print(\"The tax will be 5%\")"
   ]
  },
  {
   "cell_type": "code",
   "execution_count": 35,
   "id": "cf0bb916-8720-422c-bc7e-0956be834470",
   "metadata": {},
   "outputs": [],
   "source": [
    "#Question 3"
   ]
  },
  {
   "cell_type": "code",
   "execution_count": 46,
   "id": "2eb5300e-df53-4ba8-9624-1e3d09f55f65",
   "metadata": {},
   "outputs": [
    {
     "name": "stdin",
     "output_type": "stream",
     "text": [
      "Enter the city Agra\n"
     ]
    },
    {
     "name": "stdout",
     "output_type": "stream",
     "text": [
      "Taj mahal\n"
     ]
    }
   ],
   "source": [
    "city = input(\"Enter the city\")\n",
    "if city == \"Delhi\" :\n",
    "    print(\"Red Fort\")\n",
    "elif city == \"Agra\" :\n",
    "    print(\"Taj mahal\")\n",
    "else:\n",
    "    print(\"Jai Mahal\")"
   ]
  },
  {
   "cell_type": "code",
   "execution_count": 1,
   "id": "825e927f-aaff-4302-90b4-5b047032fe92",
   "metadata": {},
   "outputs": [],
   "source": [
    "#Question 4"
   ]
  },
  {
   "cell_type": "code",
   "execution_count": 1,
   "id": "f2d9a42d-246d-49be-9aad-6d7075532b12",
   "metadata": {},
   "outputs": [
    {
     "name": "stdin",
     "output_type": "stream",
     "text": [
      "Enter the number 1\n"
     ]
    }
   ],
   "source": [
    "n = int(input(\"Enter the number\"))\n",
    "count = 0\n",
    "while n >= 10 :\n",
    "    if n % 3 == 0:\n",
    "        count = count + 1\n",
    "    print (count)"
   ]
  },
  {
   "cell_type": "code",
   "execution_count": null,
   "id": "7b7b70f8-d68d-4114-b608-89a17a857903",
   "metadata": {},
   "outputs": [],
   "source": [
    "#Question 5"
   ]
  },
  {
   "cell_type": "code",
   "execution_count": null,
   "id": "ce80f375-8716-4cfe-a82b-3d609b2dce50",
   "metadata": {},
   "outputs": [],
   "source": [
    "While loop is run to code until condition is true and it is used when number of iterations is not known.\n",
    "Example - question 6 if the condition does not match it will not run"
   ]
  },
  {
   "cell_type": "code",
   "execution_count": null,
   "id": "26be395c-3e6f-445c-8b1e-ea73f6aa5db8",
   "metadata": {},
   "outputs": [],
   "source": [
    "#Question 6"
   ]
  },
  {
   "cell_type": "code",
   "execution_count": 3,
   "id": "b7d4dba8-1c41-43f8-b206-8e94d231ada3",
   "metadata": {},
   "outputs": [
    {
     "name": "stdout",
     "output_type": "stream",
     "text": [
      "1  \n",
      "1 2  \n",
      "1 2 3  \n"
     ]
    }
   ],
   "source": [
    "i = 1\n",
    "while i <= 3:\n",
    "    j = 1\n",
    "    while j <= i:\n",
    "        print(j,end = ' ')\n",
    "        j = j+1\n",
    "    print(' ')\n",
    "    i = i+1"
   ]
  },
  {
   "cell_type": "code",
   "execution_count": null,
   "id": "bf9de98f-3ea3-4c0a-970d-1b74b656ce7b",
   "metadata": {},
   "outputs": [],
   "source": [
    "#Question 7"
   ]
  },
  {
   "cell_type": "code",
   "execution_count": 1,
   "id": "60cc8991-8228-4f52-ab26-7da08655f38f",
   "metadata": {},
   "outputs": [
    {
     "name": "stdout",
     "output_type": "stream",
     "text": [
      "10 9 8 7 6 5 4 3 2 1 "
     ]
    }
   ],
   "source": [
    "number = 10\n",
    "i = number\n",
    "while(i >= 1):\n",
    "    print(i,end = ' ')\n",
    "    i = i - 1"
   ]
  },
  {
   "cell_type": "code",
   "execution_count": null,
   "id": "e645b9a0-0638-4e36-b5a3-15ac655c49d3",
   "metadata": {},
   "outputs": [],
   "source": [
    "#Question 8"
   ]
  },
  {
   "cell_type": "code",
   "execution_count": 2,
   "id": "2351d834-3219-4c89-8359-b9227aac9eaa",
   "metadata": {},
   "outputs": [
    {
     "name": "stdout",
     "output_type": "stream",
     "text": [
      "10 9 8 7 6 5 4 3 2 1 "
     ]
    }
   ],
   "source": [
    "number = 10\n",
    "i = number\n",
    "while(i >= 1):\n",
    "    print(i,end = ' ')\n",
    "    i = i - 1"
   ]
  },
  {
   "cell_type": "code",
   "execution_count": null,
   "id": "c72c140d-ed6b-4c18-ad9b-00e4cdc2357e",
   "metadata": {},
   "outputs": [],
   "source": []
  },
  {
   "cell_type": "code",
   "execution_count": null,
   "id": "ecca061f-e877-4165-a9c8-a81c74c0cc58",
   "metadata": {},
   "outputs": [],
   "source": []
  },
  {
   "cell_type": "code",
   "execution_count": null,
   "id": "b725090f-1ddd-4f36-aaf6-180510ff6c85",
   "metadata": {},
   "outputs": [],
   "source": []
  },
  {
   "cell_type": "code",
   "execution_count": null,
   "id": "c501f0cd-771c-4dcd-bd8f-4752a521fbed",
   "metadata": {},
   "outputs": [],
   "source": []
  },
  {
   "cell_type": "code",
   "execution_count": null,
   "id": "9cf7472e-613f-4392-a2c7-59cbf3dca34a",
   "metadata": {},
   "outputs": [],
   "source": []
  },
  {
   "cell_type": "code",
   "execution_count": null,
   "id": "173655e8-fda3-48b8-9626-abf272108fc0",
   "metadata": {},
   "outputs": [],
   "source": []
  }
 ],
 "metadata": {
  "kernelspec": {
   "display_name": "Python 3 (ipykernel)",
   "language": "python",
   "name": "python3"
  },
  "language_info": {
   "codemirror_mode": {
    "name": "ipython",
    "version": 3
   },
   "file_extension": ".py",
   "mimetype": "text/x-python",
   "name": "python",
   "nbconvert_exporter": "python",
   "pygments_lexer": "ipython3",
   "version": "3.10.8"
  }
 },
 "nbformat": 4,
 "nbformat_minor": 5
}
